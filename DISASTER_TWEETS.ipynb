{
  "nbformat": 4,
  "nbformat_minor": 0,
  "metadata": {
    "colab": {
      "provenance": [],
      "authorship_tag": "ABX9TyNdTBJfijlq4TgP4PoyV2+S",
      "include_colab_link": true
    },
    "kernelspec": {
      "name": "python3",
      "display_name": "Python 3"
    },
    "language_info": {
      "name": "python"
    }
  },
  "cells": [
    {
      "cell_type": "markdown",
      "metadata": {
        "id": "view-in-github",
        "colab_type": "text"
      },
      "source": [
        "<a href=\"https://colab.research.google.com/github/2303a51863/NLP/blob/main/DISASTER_TWEETS.ipynb\" target=\"_parent\"><img src=\"https://colab.research.google.com/assets/colab-badge.svg\" alt=\"Open In Colab\"/></a>"
      ]
    },
    {
      "cell_type": "markdown",
      "source": [
        "ASSIGNMENT-DISASTER TWEETS(01-09-2025)\n",
        "\n",
        "H.NO:2303a51863\n",
        "\n",
        "Batch-13"
      ],
      "metadata": {
        "id": "suz5n6BikA_s"
      }
    },
    {
      "cell_type": "code",
      "execution_count": 25,
      "metadata": {
        "colab": {
          "base_uri": "https://localhost:8080/"
        },
        "id": "88sYm5T9YZy7",
        "outputId": "c6fed3f0-86e4-4644-8938-149040b9f9d0"
      },
      "outputs": [
        {
          "output_type": "stream",
          "name": "stdout",
          "text": [
            "          id  keyword                 location  \\\n",
            "0          0   ablaze                      NaN   \n",
            "1          1   ablaze                      NaN   \n",
            "2          2   ablaze            New York City   \n",
            "3          3   ablaze           Morgantown, WV   \n",
            "4          4   ablaze                      NaN   \n",
            "...      ...      ...                      ...   \n",
            "11365  11365  wrecked  Blue State in a red sea   \n",
            "11366  11366  wrecked               arohaonces   \n",
            "11367  11367  wrecked                       🇵🇭   \n",
            "11368  11368  wrecked           auroraborealis   \n",
            "11369  11369  wrecked                      NaN   \n",
            "\n",
            "                                                    text  target  \n",
            "0      Communal violence in Bhainsa, Telangana. \"Ston...       1  \n",
            "1      Telangana: Section 144 has been imposed in Bha...       1  \n",
            "2      Arsonist sets cars ablaze at dealership https:...       1  \n",
            "3      Arsonist sets cars ablaze at dealership https:...       1  \n",
            "4      \"Lord Jesus, your love brings freedom and pard...       0  \n",
            "...                                                  ...     ...  \n",
            "11365  Media should have warned us well in advance. T...       0  \n",
            "11366  i feel directly attacked 💀 i consider moonbin ...       0  \n",
            "11367  i feel directly attacked 💀 i consider moonbin ...       0  \n",
            "11368  ok who remember \"outcast\" nd the \"dora\" au?? T...       0  \n",
            "11369     Jake Corway wrecked while running 14th at IRP.       1  \n",
            "\n",
            "[11370 rows x 5 columns]\n"
          ]
        }
      ],
      "source": [
        "import pandas as pd\n",
        "import numpy as np\n",
        "import re\n",
        "import string\n",
        "df=pd.read_csv(\"/content/sample_data/tweets.csv\")\n",
        "print(df)"
      ]
    },
    {
      "cell_type": "code",
      "source": [
        "def preprocess_text(text):\n",
        "  text=str(text).lower()\n",
        "  text = text.translate(str.maketrans('','',string.punctuation))\n",
        "  text = re.sub(r'[^a-z0-9\\s]', '', text)\n",
        "  tokens=word_tokenize(text)\n",
        "  stop_words=set(stopwords.words(\"english\"))\n",
        "  tokens=[word for word in tokens if word not in stop_words]\n",
        "  return \" \".join(tokens)\n"
      ],
      "metadata": {
        "id": "H5nlmKwIb5zZ"
      },
      "execution_count": 37,
      "outputs": []
    },
    {
      "cell_type": "code",
      "source": [
        "import nltk\n",
        "from nltk.corpus import stopwords\n",
        "from nltk.tokenize import word_tokenize\n",
        "from sklearn.feature_extraction.text import CountVectorizer"
      ],
      "metadata": {
        "id": "U7YPkkXpckes"
      },
      "execution_count": 7,
      "outputs": []
    },
    {
      "cell_type": "code",
      "source": [
        "df['text'] = df['text'].astype(str).apply(preprocess_text)\n",
        "print(df['text'].head())"
      ],
      "metadata": {
        "colab": {
          "base_uri": "https://localhost:8080/"
        },
        "id": "Uosm5kMWcF17",
        "outputId": "0475aecf-c141-412e-df1a-0909d6a0c968"
      },
      "execution_count": 27,
      "outputs": [
        {
          "output_type": "stream",
          "name": "stdout",
          "text": [
            "0    communal violence bhainsa telangana stones pel...\n",
            "1    telangana section 144 imposed bhainsa january ...\n",
            "2    arsonist sets cars ablaze dealership httpstcog...\n",
            "3    arsonist sets cars ablaze dealership httpstco0...\n",
            "4    lord jesus love brings freedom pardon fill hol...\n",
            "Name: text, dtype: object\n"
          ]
        }
      ]
    },
    {
      "cell_type": "code",
      "source": [
        "X = df[\"text\"]\n",
        "y = df[\"target\"]\n",
        "tfidf = TfidfVectorizer(stop_words=\"english\", max_features=5000)\n",
        "X_tfidf = tfidf.fit_transform(X)\n",
        "X_train, X_test, y_train, y_test = train_test_split(\n",
        "    X_tfidf, y, test_size=0.2, random_state=42, stratify=y)"
      ],
      "metadata": {
        "id": "A5VpA3HqibJq"
      },
      "execution_count": 39,
      "outputs": []
    },
    {
      "cell_type": "code",
      "source": [
        "def evaluate_model(model, X_train, X_test, y_train, y_test):\n",
        "    model.fit(X_train, y_train)\n",
        "    y_pred = model.predict(X_test)\n",
        "\n",
        "    acc = accuracy_score(y_test, y_pred)\n",
        "    prec = precision_score(y_test, y_pred, zero_division=0)\n",
        "    rec = recall_score(y_test, y_pred, zero_division=0)\n",
        "    f1 = f1_score(y_test, y_pred, zero_division=0)\n",
        "\n",
        "    print(f\"\\nModel: {model.__class__.__name__}\")\n",
        "    print(f\"Accuracy : {acc:.4f}\")\n",
        "    print(f\"Precision: {prec:.4f}\")\n",
        "    print(f\"Recall   : {rec:.4f}\")\n",
        "    print(f\"F1-score : {f1:.4f}\")\n",
        "    return acc, prec, rec, f1\n",
        "\n",
        "results = {}\n"
      ],
      "metadata": {
        "id": "8-sHrp96gslB"
      },
      "execution_count": 38,
      "outputs": []
    },
    {
      "cell_type": "code",
      "source": [
        "log_reg = LogisticRegression(max_iter=1000)\n",
        "results[\"Logistic Regression\"] = evaluate_model(log_reg, X_train, X_test, y_train, y_test)\n",
        "svm = SVC(kernel=\"linear\")\n",
        "results[\"SVM\"] = evaluate_model(svm, X_train, X_test, y_train, y_test)\n",
        "rf = RandomForestClassifier(n_estimators=100, random_state=42)\n",
        "results[\"Random Forest\"] = evaluate_model(rf, X_train, X_test, y_train, y_test)\n",
        "results_df = pd.DataFrame(results, index=[\"Accuracy\", \"Precision\", \"Recall\", \"F1-score\"]).T\n",
        "print(\"\\n=== Model Comparison ===\")\n",
        "print(results_df)"
      ],
      "metadata": {
        "colab": {
          "base_uri": "https://localhost:8080/"
        },
        "id": "jwj-VeuAhFy-",
        "outputId": "acd58a00-fb07-44c5-95cf-ca620e8416bc"
      },
      "execution_count": 40,
      "outputs": [
        {
          "output_type": "stream",
          "name": "stdout",
          "text": [
            "\n",
            "Model: LogisticRegression\n",
            "Accuracy : 0.8641\n",
            "Precision: 0.8562\n",
            "Recall   : 0.3239\n",
            "F1-score : 0.4700\n",
            "\n",
            "Model: SVC\n",
            "Accuracy : 0.8773\n",
            "Precision: 0.7903\n",
            "Recall   : 0.4634\n",
            "F1-score : 0.5842\n",
            "\n",
            "Model: RandomForestClassifier\n",
            "Accuracy : 0.8777\n",
            "Precision: 0.7736\n",
            "Recall   : 0.4846\n",
            "F1-score : 0.5959\n",
            "\n",
            "=== Model Comparison ===\n",
            "                     Accuracy  Precision    Recall  F1-score\n",
            "Logistic Regression  0.864116   0.856250  0.323877  0.469983\n",
            "SVM                  0.877309   0.790323  0.463357  0.584203\n",
            "Random Forest        0.877748   0.773585  0.484634  0.595930\n"
          ]
        }
      ]
    },
    {
      "cell_type": "code",
      "source": [
        "import matplotlib.pyplot as plt\n",
        "metrics = [\"Accuracy\", \"Precision\", \"Recall\", \"F1-score\"]\n",
        "results_df = pd.DataFrame(results, index=metrics).T\n",
        "results_df.plot(kind=\"bar\", figsize=(10,6))\n",
        "plt.title(\"Model Performance Comparison (Disaster Tweets)\", fontsize=14)\n",
        "plt.xlabel(\"Models\", fontsize=12)\n",
        "plt.ylabel(\"Score\", fontsize=12)\n",
        "plt.xticks(rotation=0)\n",
        "plt.legend(title=\"Metrics\")\n",
        "plt.ylim(0,1)\n",
        "plt.grid(axis=\"y\", linestyle=\"--\", alpha=0.7)\n",
        "plt.show()\n"
      ],
      "metadata": {
        "colab": {
          "base_uri": "https://localhost:8080/",
          "height": 569
        },
        "id": "gOMpHB1HjLmg",
        "outputId": "c7e4c907-5c3d-4bd3-847f-ec621e58a97a"
      },
      "execution_count": 42,
      "outputs": [
        {
          "output_type": "display_data",
          "data": {
            "text/plain": [
              "<Figure size 1000x600 with 1 Axes>"
            ],
            "image/png": "[encoded data removed]"
          },
          "metadata": {}
        }
      ]
    }
  ]
}