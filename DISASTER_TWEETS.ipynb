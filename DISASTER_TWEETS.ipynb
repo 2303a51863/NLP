{
  "cells": [
    {
      "cell_type": "markdown",
      "metadata": {
        "id": "view-in-github",
        "colab_type": "text"
      },
      "source": [
        "<a href=\"https://colab.research.google.com/github/2303a51863/NLP/blob/main/DISASTER_TWEETS.ipynb\" target=\"_parent\"><img src=\"https://colab.research.google.com/assets/colab-badge.svg\" alt=\"Open In Colab\"/></a>"
      ]
    },
    {
      "cell_type": "markdown",
      "metadata": {
        "id": "suz5n6BikA_s"
      },
      "source": [
        "ASSIGNMENT-DISASTER TWEETS(01-09-2025)\n",
        "\n",
        "H.NO:2303a51863\n",
        "\n",
        "Batch-13"
      ]
    },
    {
      "cell_type": "code",
      "execution_count": 4,
      "metadata": {
        "colab": {
          "base_uri": "https://localhost:8080/"
        },
        "id": "88sYm5T9YZy7",
        "outputId": "57b6e012-591e-4060-da00-8bee6a3b7157"
      },
      "outputs": [
        {
          "output_type": "stream",
          "name": "stdout",
          "text": [
            "          id  keyword                 location  \\\n",
            "0          0   ablaze                      NaN   \n",
            "1          1   ablaze                      NaN   \n",
            "2          2   ablaze            New York City   \n",
            "3          3   ablaze           Morgantown, WV   \n",
            "4          4   ablaze                      NaN   \n",
            "...      ...      ...                      ...   \n",
            "11365  11365  wrecked  Blue State in a red sea   \n",
            "11366  11366  wrecked               arohaonces   \n",
            "11367  11367  wrecked                       🇵🇭   \n",
            "11368  11368  wrecked           auroraborealis   \n",
            "11369  11369  wrecked                      NaN   \n",
            "\n",
            "                                                    text  target  \n",
            "0      Communal violence in Bhainsa, Telangana. \"Ston...       1  \n",
            "1      Telangana: Section 144 has been imposed in Bha...       1  \n",
            "2      Arsonist sets cars ablaze at dealership https:...       1  \n",
            "3      Arsonist sets cars ablaze at dealership https:...       1  \n",
            "4      \"Lord Jesus, your love brings freedom and pard...       0  \n",
            "...                                                  ...     ...  \n",
            "11365  Media should have warned us well in advance. T...       0  \n",
            "11366  i feel directly attacked 💀 i consider moonbin ...       0  \n",
            "11367  i feel directly attacked 💀 i consider moonbin ...       0  \n",
            "11368  ok who remember \"outcast\" nd the \"dora\" au?? T...       0  \n",
            "11369     Jake Corway wrecked while running 14th at IRP.       1  \n",
            "\n",
            "[11370 rows x 5 columns]\n"
          ]
        }
      ],
      "source": [
        "import pandas as pd\n",
        "import numpy as np\n",
        "import re\n",
        "import string\n",
        "df=pd.read_csv(\"/content/sample_data/tweets.csv\")\n",
        "print(df)"
      ]
    },
    {
      "cell_type": "code",
      "source": [
        "import nltk\n",
        "nltk.download('punkt')\n",
        "nltk.download('stopwords')\n",
        "from nltk.corpus import stopwords\n",
        "from nltk.tokenize import word_tokenize\n",
        "import re\n",
        "import string\n",
        "from nltk.tokenize.punkt import PunktTokenizer # Import PunktTokenizer\n",
        "\n",
        "def preprocess_text(text):\n",
        "  text=str(text).lower()\n",
        "  text = text.translate(str.maketrans('','',string.punctuation))\n",
        "  text = re.sub(r'[^a-z0-9\\s]', '', text)\n",
        "\n",
        "  tokenizer = PunktTokenizer()\n",
        "  tokens=tokenizer.tokenize(text)\n",
        "  stop_words=set(stopwords.words(\"english\"))\n",
        "  tokens=[word for word in tokens if word not in stop_words]\n",
        "  return \" \".join(tokens)"
      ],
      "metadata": {
        "colab": {
          "base_uri": "https://localhost:8080/"
        },
        "id": "dnKmUzpHiCR_",
        "outputId": "219be31e-dc14-4988-b27b-2c816b417762"
      },
      "execution_count": 11,
      "outputs": [
        {
          "output_type": "stream",
          "name": "stderr",
          "text": [
            "[nltk_data] Downloading package punkt to /root/nltk_data...\n",
            "[nltk_data]   Package punkt is already up-to-date!\n",
            "[nltk_data] Downloading package stopwords to /root/nltk_data...\n",
            "[nltk_data]   Package stopwords is already up-to-date!\n"
          ]
        }
      ]
    },
    {
      "cell_type": "code",
      "execution_count": 12,
      "metadata": {
        "colab": {
          "base_uri": "https://localhost:8080/"
        },
        "id": "o4P_B8OVjMHj",
        "outputId": "0c501aac-9630-4bcf-b350-7127299a5ef5"
      },
      "outputs": [
        {
          "output_type": "stream",
          "name": "stderr",
          "text": [
            "[nltk_data] Downloading package punkt to /root/nltk_data...\n",
            "[nltk_data]   Package punkt is already up-to-date!\n",
            "[nltk_data] Downloading package stopwords to /root/nltk_data...\n",
            "[nltk_data]   Package stopwords is already up-to-date!\n",
            "[nltk_data] Downloading package punkt_tab to /root/nltk_data...\n",
            "[nltk_data]   Package punkt_tab is already up-to-date!\n"
          ]
        }
      ],
      "source": [
        "import nltk\n",
        "nltk.download('punkt')\n",
        "nltk.download('stopwords')\n",
        "nltk.download('punkt_tab') # Add this line to download the missing resource\n",
        "from nltk.corpus import stopwords\n",
        "from nltk.tokenize import word_tokenize\n",
        "from sklearn.feature_extraction.text import CountVectorizer, TfidfVectorizer\n",
        "from sklearn.model_selection import train_test_split"
      ]
    },
    {
      "cell_type": "code",
      "execution_count": 13,
      "metadata": {
        "colab": {
          "base_uri": "https://localhost:8080/"
        },
        "id": "Uosm5kMWcF17",
        "outputId": "d033191f-e1e3-47b7-e871-820566a547da"
      },
      "outputs": [
        {
          "output_type": "stream",
          "name": "stdout",
          "text": [
            "0    communal violence bhainsa telangana stones pel...\n",
            "1    telangana section 144 imposed bhainsa january ...\n",
            "2    arsonist sets cars ablaze dealership httpstcog...\n",
            "3    arsonist sets cars ablaze dealership httpstco0...\n",
            "4    lord jesus love brings freedom pardon fill hol...\n",
            "Name: text, dtype: object\n"
          ]
        }
      ],
      "source": [
        "df['text'] = df['text'].astype(str).apply(preprocess_text)\n",
        "print(df['text'].head())"
      ]
    },
    {
      "cell_type": "code",
      "execution_count": 14,
      "metadata": {
        "id": "A5VpA3HqibJq"
      },
      "outputs": [],
      "source": [
        "X = df[\"text\"]\n",
        "y = df[\"target\"]\n",
        "tfidf = TfidfVectorizer(stop_words=\"english\", max_features=5000)\n",
        "X_tfidf = tfidf.fit_transform(X)\n",
        "X_train, X_test, y_train, y_test = train_test_split(\n",
        "    X_tfidf, y, test_size=0.2, random_state=42, stratify=y)"
      ]
    },
    {
      "cell_type": "code",
      "execution_count": 15,
      "metadata": {
        "id": "8-sHrp96gslB"
      },
      "outputs": [],
      "source": [
        "def evaluate_model(model, X_train, X_test, y_train, y_test):\n",
        "    model.fit(X_train, y_train)\n",
        "    y_pred = model.predict(X_test)\n",
        "\n",
        "    acc = accuracy_score(y_test, y_pred)\n",
        "    prec = precision_score(y_test, y_pred, zero_division=0)\n",
        "    rec = recall_score(y_test, y_pred, zero_division=0)\n",
        "    f1 = f1_score(y_test, y_pred, zero_division=0)\n",
        "\n",
        "    print(f\"\\nModel: {model.__class__.__name__}\")\n",
        "    print(f\"Accuracy : {acc:.4f}\")\n",
        "    print(f\"Precision: {prec:.4f}\")\n",
        "    print(f\"Recall   : {rec:.4f}\")\n",
        "    print(f\"F1-score : {f1:.4f}\")\n",
        "    return acc, prec, rec, f1\n",
        "\n",
        "results = {}\n"
      ]
    },
    {
      "cell_type": "code",
      "execution_count": 16,
      "metadata": {
        "id": "-1yLV53djg3E",
        "colab": {
          "base_uri": "https://localhost:8080/"
        },
        "outputId": "c304eb12-03e1-4d48-92af-b7612c9c57cf"
      },
      "outputs": [
        {
          "output_type": "stream",
          "name": "stdout",
          "text": [
            "\n",
            "Model: LogisticRegression\n",
            "Accuracy : 0.8588\n",
            "Precision: 0.8228\n",
            "Recall   : 0.3073\n",
            "F1-score : 0.4475\n",
            "\n",
            "Model: SVC\n",
            "Accuracy : 0.8760\n",
            "Precision: 0.7854\n",
            "Recall   : 0.4586\n",
            "F1-score : 0.5791\n",
            "\n",
            "Model: RandomForestClassifier\n",
            "Accuracy : 0.8777\n",
            "Precision: 0.7675\n",
            "Recall   : 0.4917\n",
            "F1-score : 0.5994\n",
            "\n",
            "=== Model Comparison ===\n",
            "                     Accuracy  Precision    Recall  F1-score\n",
            "Logistic Regression  0.858839   0.822785  0.307329  0.447504\n",
            "SVM                  0.875989   0.785425  0.458629  0.579104\n",
            "Random Forest        0.877748   0.767528  0.491726  0.599424\n"
          ]
        }
      ],
      "source": [
        "from sklearn.linear_model import LogisticRegression\n",
        "from sklearn.svm import SVC\n",
        "from sklearn.ensemble import RandomForestClassifier\n",
        "from sklearn.metrics import accuracy_score, precision_score, recall_score, f1_score\n",
        "\n",
        "log_reg = LogisticRegression(max_iter=1000)\n",
        "results[\"Logistic Regression\"] = evaluate_model(log_reg, X_train, X_test, y_train, y_test)\n",
        "svm = SVC(kernel=\"linear\")\n",
        "results[\"SVM\"] = evaluate_model(svm, X_train, X_test, y_train, y_test)\n",
        "rf = RandomForestClassifier(n_estimators=100, random_state=42)\n",
        "results[\"Random Forest\"] = evaluate_model(rf, X_train, X_test, y_train, y_test)\n",
        "results_df = pd.DataFrame(results, index=[\"Accuracy\", \"Precision\", \"Recall\", \"F1-score\"]).T\n",
        "print(\"\\n=== Model Comparison ===\")\n",
        "print(results_df)"
      ]
    },
    {
      "cell_type": "code",
      "execution_count": 17,
      "metadata": {
        "id": "gOMpHB1HjLmg",
        "colab": {
          "base_uri": "https://localhost:8080/",
          "height": 569
        },
        "outputId": "7a975c5b-37c0-47df-b385-9e6287e57d98"
      },
      "outputs": [
        {
          "output_type": "display_data",
          "data": {
            "text/plain": [
              "<Figure size 1000x600 with 1 Axes>"
            ],
            "image/png": "[encoded data removed]"
          },
          "metadata": {}
        }
      ],
      "source": [
        "import matplotlib.pyplot as plt\n",
        "metrics = [\"Accuracy\", \"Precision\", \"Recall\", \"F1-score\"]\n",
        "results_df = pd.DataFrame(results, index=metrics).T\n",
        "results_df.plot(kind=\"bar\", figsize=(10,6))\n",
        "plt.title(\"Model Performance Comparison (Disaster Tweets)\", fontsize=14)\n",
        "plt.xlabel(\"Models\", fontsize=12)\n",
        "plt.ylabel(\"Score\", fontsize=12)\n",
        "plt.xticks(rotation=0)\n",
        "plt.legend(title=\"Metrics\")\n",
        "plt.ylim(0,1)\n",
        "plt.grid(axis=\"y\", linestyle=\"--\", alpha=0.7)\n",
        "plt.show()\n"
      ]
    },
    {
      "cell_type": "markdown",
      "source": [
        "(08-09-2025)\n"
      ],
      "metadata": {
        "id": "CW-S4tR_jvvB"
      }
    },
    {
      "cell_type": "code",
      "execution_count": 19,
      "metadata": {
        "id": "jMPxJT2AjpFI"
      },
      "outputs": [],
      "source": [
        "import tensorflow as tf\n",
        "from tensorflow.keras.models import Sequential\n",
        "from tensorflow.keras.layers import Dense,Dropout,Embedding,Conv1D,GlobalMaxPooling1D,LSTM,Bidirectional\n",
        "from tensorflow.keras.preprocessing.text import Tokenizer\n",
        "from tensorflow.keras.preprocessing.sequence import pad_sequences\n",
        "from sklearn.model_selection import train_test_split\n",
        "from sklearn.metrics import accuracy_score, precision_score, recall_score, f1_score"
      ]
    },
    {
      "cell_type": "code",
      "execution_count": 20,
      "metadata": {
        "id": "V_fSrI9-kGOp",
        "colab": {
          "base_uri": "https://localhost:8080/"
        },
        "outputId": "4e259615-ee9a-4374-adce-c93efe915721"
      },
      "outputs": [
        {
          "output_type": "stream",
          "name": "stderr",
          "text": [
            "/usr/local/lib/python3.12/dist-packages/keras/src/layers/core/dense.py:93: UserWarning: Do not pass an `input_shape`/`input_dim` argument to a layer. When using Sequential models, prefer using an `Input(shape)` object as the first layer in the model instead.\n",
            "  super().__init__(activity_regularizer=activity_regularizer, **kwargs)\n"
          ]
        },
        {
          "output_type": "stream",
          "name": "stdout",
          "text": [
            "Epoch 1/5\n",
            "\u001b[1m143/143\u001b[0m \u001b[32m━━━━━━━━━━━━━━━━━━━━\u001b[0m\u001b[37m\u001b[0m \u001b[1m4s\u001b[0m 19ms/step - accuracy: 0.8092 - loss: 0.5235 - val_accuracy: 0.8584 - val_loss: 0.3333\n",
            "Epoch 2/5\n",
            "\u001b[1m143/143\u001b[0m \u001b[32m━━━━━━━━━━━━━━━━━━━━\u001b[0m\u001b[37m\u001b[0m \u001b[1m4s\u001b[0m 11ms/step - accuracy: 0.9039 - loss: 0.2350 - val_accuracy: 0.8804 - val_loss: 0.3236\n",
            "Epoch 3/5\n",
            "\u001b[1m143/143\u001b[0m \u001b[32m━━━━━━━━━━━━━━━━━━━━\u001b[0m\u001b[37m\u001b[0m \u001b[1m2s\u001b[0m 11ms/step - accuracy: 0.9578 - loss: 0.1211 - val_accuracy: 0.8734 - val_loss: 0.3773\n",
            "Epoch 4/5\n",
            "\u001b[1m143/143\u001b[0m \u001b[32m━━━━━━━━━━━━━━━━━━━━\u001b[0m\u001b[37m\u001b[0m \u001b[1m3s\u001b[0m 12ms/step - accuracy: 0.9822 - loss: 0.0602 - val_accuracy: 0.8681 - val_loss: 0.4738\n",
            "Epoch 5/5\n",
            "\u001b[1m143/143\u001b[0m \u001b[32m━━━━━━━━━━━━━━━━━━━━\u001b[0m\u001b[37m\u001b[0m \u001b[1m2s\u001b[0m 11ms/step - accuracy: 0.9926 - loss: 0.0293 - val_accuracy: 0.8738 - val_loss: 0.5668\n"
          ]
        },
        {
          "output_type": "execute_result",
          "data": {
            "text/plain": [
              "<keras.src.callbacks.history.History at 0x7d6166eda6c0>"
            ]
          },
          "metadata": {},
          "execution_count": 20
        }
      ],
      "source": [
        "mlp= Sequential([Dense(128, activation=\"relu\",\n",
        "                    input_shape=(X_train.shape[1],)),\n",
        "              Dropout(0,3),Dense(64,activation=\"relu\"),\n",
        "              Dense(1,activation=\"sigmoid\")\n",
        "              ])\n",
        "mlp.compile(optimizer=\"adam\",loss=\"binary_crossentropy\",metrics=[\"accuracy\"])\n",
        "mlp.fit(X_train.toarray(),y_train,validation_data=(X_test.toarray(),y_test),epochs=5,batch_size=64)"
      ]
    },
    {
      "cell_type": "markdown",
      "metadata": {
        "id": "hwpihRHNkmXv"
      },
      "source": [
        "CNN"
      ]
    },
    {
      "cell_type": "code",
      "execution_count": 22,
      "metadata": {
        "id": "Lh2bYCIEnce-"
      },
      "outputs": [],
      "source": [
        "tokenizer=Tokenizer(num_words=10000)\n",
        "tokenizer.fit_on_texts(df[\"text\"])\n",
        "X_seq=tokenizer.texts_to_sequences(df[\"text\"])\n",
        "X_pad=pad_sequences(X_seq,maxlen=100)\n",
        "X_train_seq,X_test_seq,y_train,y_test=train_test_split(X_pad,df[\"target\"],test_size=0.2,random_state=42)\n",
        "vocab_size=len(tokenizer.word_index)+1"
      ]
    },
    {
      "cell_type": "code",
      "execution_count": 26,
      "metadata": {
        "id": "Kp1MG-P6pGf4",
        "colab": {
          "base_uri": "https://localhost:8080/"
        },
        "outputId": "d80afdc2-8c02-4418-f85d-0d5dd3dd5b8e"
      },
      "outputs": [
        {
          "output_type": "stream",
          "name": "stdout",
          "text": [
            "Epoch 1/5\n"
          ]
        },
        {
          "output_type": "stream",
          "name": "stderr",
          "text": [
            "/usr/local/lib/python3.12/dist-packages/keras/src/layers/core/embedding.py:97: UserWarning: Argument `input_length` is deprecated. Just remove it.\n",
            "  warnings.warn(\n"
          ]
        },
        {
          "output_type": "stream",
          "name": "stdout",
          "text": [
            "\u001b[1m143/143\u001b[0m \u001b[32m━━━━━━━━━━━━━━━━━━━━\u001b[0m\u001b[37m\u001b[0m \u001b[1m14s\u001b[0m 88ms/step - accuracy: 0.8105 - loss: 0.5098 - val_accuracy: 0.8857 - val_loss: 0.2989\n",
            "Epoch 2/5\n",
            "\u001b[1m143/143\u001b[0m \u001b[32m━━━━━━━━━━━━━━━━━━━━\u001b[0m\u001b[37m\u001b[0m \u001b[1m21s\u001b[0m 89ms/step - accuracy: 0.9148 - loss: 0.2261 - val_accuracy: 0.8953 - val_loss: 0.2824\n",
            "Epoch 3/5\n",
            "\u001b[1m143/143\u001b[0m \u001b[32m━━━━━━━━━━━━━━━━━━━━\u001b[0m\u001b[37m\u001b[0m \u001b[1m12s\u001b[0m 87ms/step - accuracy: 0.9725 - loss: 0.0958 - val_accuracy: 0.8896 - val_loss: 0.3289\n",
            "Epoch 4/5\n",
            "\u001b[1m143/143\u001b[0m \u001b[32m━━━━━━━━━━━━━━━━━━━━\u001b[0m\u001b[37m\u001b[0m \u001b[1m22s\u001b[0m 97ms/step - accuracy: 0.9905 - loss: 0.0390 - val_accuracy: 0.8927 - val_loss: 0.4195\n",
            "Epoch 5/5\n",
            "\u001b[1m143/143\u001b[0m \u001b[32m━━━━━━━━━━━━━━━━━━━━\u001b[0m\u001b[37m\u001b[0m \u001b[1m13s\u001b[0m 92ms/step - accuracy: 0.9957 - loss: 0.0236 - val_accuracy: 0.8914 - val_loss: 0.4658\n"
          ]
        },
        {
          "output_type": "execute_result",
          "data": {
            "text/plain": [
              "<keras.src.callbacks.history.History at 0x7d61d41868a0>"
            ]
          },
          "metadata": {},
          "execution_count": 26
        }
      ],
      "source": [
        "cnn=Sequential([\n",
        "    Embedding(input_dim=5000,output_dim=128),\n",
        "    Conv1D(128,3,activation=\"relu\"),\n",
        "    GlobalMaxPooling1D(),\n",
        "    Dense(64,activation=\"relu\"),\n",
        "    Dropout(0.5),\n",
        "    Dense(1,activation=\"sigmoid\")\n",
        "])\n",
        "cnn.compile(optimizer=\"adam\",loss=\"binary_crossentropy\",metrics=[\"accuracy\"])\n",
        "cnn.fit(X_train.toarray(),y_train,validation_data=(X_test.toarray(),y_test),epochs=5,batch_size=64)"
      ]
    },
    {
      "cell_type": "markdown",
      "metadata": {
        "id": "Ogtr_neyrmM1"
      },
      "source": [
        "LSTM"
      ]
    },
    {
      "cell_type": "code",
      "execution_count": 27,
      "metadata": {
        "id": "L-eFDTgcrlCh",
        "colab": {
          "base_uri": "https://localhost:8080/"
        },
        "outputId": "9806b277-b288-427f-a643-ac75f6bfcc4b"
      },
      "outputs": [
        {
          "output_type": "stream",
          "name": "stdout",
          "text": [
            "Epoch 1/5\n",
            "\u001b[1m143/143\u001b[0m \u001b[32m━━━━━━━━━━━━━━━━━━━━\u001b[0m\u001b[37m\u001b[0m \u001b[1m41s\u001b[0m 262ms/step - accuracy: 0.8063 - loss: 0.4696 - val_accuracy: 0.8984 - val_loss: 0.2636\n",
            "Epoch 2/5\n",
            "\u001b[1m143/143\u001b[0m \u001b[32m━━━━━━━━━━━━━━━━━━━━\u001b[0m\u001b[37m\u001b[0m \u001b[1m39s\u001b[0m 271ms/step - accuracy: 0.9328 - loss: 0.1873 - val_accuracy: 0.9028 - val_loss: 0.2589\n",
            "Epoch 3/5\n",
            "\u001b[1m143/143\u001b[0m \u001b[32m━━━━━━━━━━━━━━━━━━━━\u001b[0m\u001b[37m\u001b[0m \u001b[1m38s\u001b[0m 268ms/step - accuracy: 0.9650 - loss: 0.1033 - val_accuracy: 0.8839 - val_loss: 0.3101\n",
            "Epoch 4/5\n",
            "\u001b[1m143/143\u001b[0m \u001b[32m━━━━━━━━━━━━━━━━━━━━\u001b[0m\u001b[37m\u001b[0m \u001b[1m38s\u001b[0m 264ms/step - accuracy: 0.9817 - loss: 0.0571 - val_accuracy: 0.8848 - val_loss: 0.3446\n",
            "Epoch 5/5\n",
            "\u001b[1m143/143\u001b[0m \u001b[32m━━━━━━━━━━━━━━━━━━━━\u001b[0m\u001b[37m\u001b[0m \u001b[1m41s\u001b[0m 291ms/step - accuracy: 0.9878 - loss: 0.0373 - val_accuracy: 0.8997 - val_loss: 0.4029\n"
          ]
        },
        {
          "output_type": "execute_result",
          "data": {
            "text/plain": [
              "<keras.src.callbacks.history.History at 0x7d614fd55fd0>"
            ]
          },
          "metadata": {},
          "execution_count": 27
        }
      ],
      "source": [
        "import tensorflow as tf\n",
        "from tensorflow.keras.models import Sequential\n",
        "from tensorflow.keras.layers import Dense,Dropout,Embedding,Conv1D,GlobalMaxPooling1D,LSTM,Bidirectional\n",
        "from tensorflow.keras.preprocessing.text import Tokenizer\n",
        "from tensorflow.keras.preprocessing.sequence import pad_sequences\n",
        "from sklearn.model_selection import train_test_split\n",
        "from sklearn.metrics import accuracy_score, precision_score, recall_score, f1_score\n",
        "\n",
        "lstm=Sequential([\n",
        "    Embedding(vocab_size,128,input_length=100),\n",
        "    Bidirectional(LSTM(64,return_sequences=False)),\n",
        "    Dropout(0.3),\n",
        "    Dense(1,activation=\"sigmoid\")\n",
        "])\n",
        "lstm.compile(optimizer=\"adam\",loss=\"binary_crossentropy\",metrics=[\"accuracy\"])\n",
        "lstm.fit(X_train_seq,y_train,validation_data=(X_test_seq,y_test),epochs=5,batch_size=64)"
      ]
    },
    {
      "cell_type": "code",
      "source": [
        "cnn_loss, cnn_accuracy = cnn.evaluate(X_test_seq, y_test, verbose=0)\n",
        "cnn_y_pred = (cnn.predict(X_test_seq) > 0.5).astype(\"int32\")\n",
        "cnn_precision = precision_score(y_test, cnn_y_pred, zero_division=0)\n",
        "cnn_recall = recall_score(y_test, cnn_y_pred, zero_division=0)\n",
        "cnn_f1 = f1_score(y_test, cnn_y_pred, zero_division=0)\n",
        "\n",
        "results[\"CNN\"] = (cnn_accuracy, cnn_precision, cnn_recall, cnn_f1)\n",
        "\n",
        "lstm_loss, lstm_accuracy = lstm.evaluate(X_test_seq, y_test, verbose=0)\n",
        "lstm_y_pred = (lstm.predict(X_test_seq) > 0.5).astype(\"int32\")\n",
        "lstm_precision = precision_score(y_test, lstm_y_pred, zero_division=0)\n",
        "lstm_recall = recall_score(y_test, lstm_y_pred, zero_division=0)\n",
        "lstm_f1 = f1_score(y_test, lstm_y_pred, zero_division=0)\n",
        "\n",
        "results[\"LSTM\"] = (lstm_accuracy, lstm_precision, lstm_recall, lstm_f1)\n",
        "\n",
        "results_df = pd.DataFrame(results, index=[\"Accuracy\", \"Precision\", \"Recall\", \"F1-score\"]).T\n",
        "print(\"\\n=== Model Comparison ===\")\n",
        "print(results_df)"
      ],
      "metadata": {
        "colab": {
          "base_uri": "https://localhost:8080/"
        },
        "id": "c_woTErSmfJb",
        "outputId": "5dcaf464-e9bc-4311-bc8b-f172710adb1e"
      },
      "execution_count": 28,
      "outputs": [
        {
          "output_type": "stream",
          "name": "stdout",
          "text": [
            "\u001b[1m72/72\u001b[0m \u001b[32m━━━━━━━━━━━━━━━━━━━━\u001b[0m\u001b[37m\u001b[0m \u001b[1m1s\u001b[0m 8ms/step\n",
            "\u001b[1m72/72\u001b[0m \u001b[32m━━━━━━━━━━━━━━━━━━━━\u001b[0m\u001b[37m\u001b[0m \u001b[1m2s\u001b[0m 30ms/step\n",
            "\n",
            "=== Model Comparison ===\n",
            "                     Accuracy  Precision    Recall  F1-score\n",
            "Logistic Regression  0.858839   0.822785  0.307329  0.447504\n",
            "SVM                  0.875989   0.785425  0.458629  0.579104\n",
            "Random Forest        0.877748   0.767528  0.491726  0.599424\n",
            "CNN                  0.891381   0.721068  0.613636  0.663029\n",
            "LSTM                 0.899736   0.778146  0.593434  0.673352\n"
          ]
        }
      ]
    },
    {
      "cell_type": "code",
      "metadata": {
        "colab": {
          "base_uri": "https://localhost:8080/",
          "height": 607
        },
        "id": "ba819f51",
        "outputId": "9933b6a4-1bb9-4c99-81f5-eee5df6375c4"
      },
      "source": [
        "results_df.plot(kind=\"bar\", figsize=(10,6))\n",
        "plt.title(\"Model Performance Comparison (Disaster Tweets)\", fontsize=14)\n",
        "plt.xlabel(\"Models\", fontsize=12)\n",
        "plt.ylabel(\"Score\", fontsize=12)\n",
        "plt.xticks(rotation=45, ha=\"right\")\n",
        "plt.legend(title=\"Metrics\")\n",
        "plt.ylim(0,1)\n",
        "plt.grid(axis=\"y\", linestyle=\"--\", alpha=0.7)\n",
        "plt.tight_layout()\n",
        "plt.show()"
      ],
      "execution_count": 29,
      "outputs": [
        {
          "output_type": "display_data",
          "data": {
            "text/plain": [
              "<Figure size 1000x600 with 1 Axes>"
            ],
            "image/png": "[encoded data removed]"
          },
          "metadata": {}
        }
      ]
    }
  ],
  "metadata": {
    "colab": {
      "provenance": [],
      "authorship_tag": "ABX9TyPGvDXesCMNatoW/3QSC4ti",
      "include_colab_link": true
    },
    "kernelspec": {
      "display_name": "Python 3",
      "name": "python3"
    },
    "language_info": {
      "name": "python"
    }
  },
  "nbformat": 4,
  "nbformat_minor": 0
}